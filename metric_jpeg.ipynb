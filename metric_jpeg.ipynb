{
 "cells": [
  {
   "cell_type": "code",
   "execution_count": 1,
   "metadata": {},
   "outputs": [],
   "source": [
    "import os\n",
    "import torch\n",
    "import numpy as np\n",
    "from PIL import Image\n",
    "import matplotlib.pyplot as plt\n",
    "import pandas as pd\n",
    "\n",
    "from util.metric import MultiScaleSSIM, psnr"
   ]
  },
  {
   "cell_type": "code",
   "execution_count": 2,
   "metadata": {},
   "outputs": [],
   "source": [
    "# JPEG 파일들이 있는 폴더 경로\n",
    "jpeg_folder = './data/kodim/jpeg'\n",
    "\n",
    "# 원본 PNG 파일이 있는 폴더 경로 (참조용)\n",
    "png_folder = './data/kodim/png'"
   ]
  },
  {
   "cell_type": "code",
   "execution_count": 3,
   "metadata": {},
   "outputs": [],
   "source": [
    "sampling_factors = ['4:4:4', '4:2:2', '4:2:0']\n",
    "quality_values = range(10, 101, 10)\n",
    "\n",
    "png_images_path = os.listdir(png_folder)\n",
    "png_images_path.sort()\n"
   ]
  },
  {
   "cell_type": "code",
   "execution_count": 9,
   "metadata": {},
   "outputs": [],
   "source": [
    "png_images = []\n",
    "jpeg_images_dict = {sampling: {} for sampling in sampling_factors}\n",
    "results_dict = {sampling: [] for sampling in sampling_factors}\n",
    "\n",
    "# PNG 폴더의 모든 파일에 대해 metric 계산\n",
    "for file_name in png_images_path:\n",
    "    if file_name.lower().endswith('.png'):\n",
    "        png_path = os.path.join(png_folder, file_name)\n",
    "        with Image.open(png_path) as img:\n",
    "            png_images.append(np.array(img).transpose(2, 0, 1))\n",
    "\n",
    "for sampling in sampling_factors:\n",
    "    jpeg_images_quality_dict = {quality: [] for quality in quality_values}\n",
    "    jpeg_images = []\n",
    "    for quality in quality_values:\n",
    "        for i in range(len(png_images)):\n",
    "            file_name = f\"kodim{i+1:02}_{sampling}_{quality}.jpeg\"\n",
    "            # JPEG 파일 이름과 경로 설정\n",
    "            jpeg_path = os.path.join(jpeg_folder, file_name)\n",
    "            jpeg_size = os.path.getsize(jpeg_path) * 8\n",
    "            \n",
    "            with Image.open(jpeg_path) as img:\n",
    "                jpeg_img = np.array(img).transpose(2, 0, 1)\n",
    "                bpp = jpeg_size / (jpeg_img.shape[1] * jpeg_img.shape[2])\n",
    "                jpeg_images_quality_dict[quality].append([jpeg_img, bpp])\n",
    "                \n",
    "        jpeg_images_dict[sampling] = jpeg_images_quality_dict\n",
    "                        "
   ]
  },
  {
   "cell_type": "code",
   "execution_count": 10,
   "metadata": {},
   "outputs": [],
   "source": [
    "# MS-SSIM 계산\n",
    "for sampling in sampling_factors:\n",
    "    for quality in quality_values:\n",
    "        jpeg_images = jpeg_images_dict[sampling][quality]\n",
    "        ms_ssim_losses = []\n",
    "        psnr_losses = []\n",
    "        for i in range(len(png_images)):\n",
    "            image1 = np.expand_dims(png_images[i], axis=0)\n",
    "            image2 = np.expand_dims(jpeg_images[i][0], axis=0)\n",
    "            ms_ssim_losses.append(MultiScaleSSIM(image1, image2, max_val=255))\n",
    "            psnr_losses.append(psnr(image1, image2))\n",
    "            bpp = jpeg_images[i][1]\n",
    "        ms_ssim_loss = sum(ms_ssim_losses) / len(ms_ssim_losses)\n",
    "        psnr_loss = sum(psnr_losses) / len(psnr_losses)\n",
    "        results_dict[sampling].append((quality, bpp, ms_ssim_loss, psnr_loss))\n"
   ]
  },
  {
   "cell_type": "code",
   "execution_count": 11,
   "metadata": {},
   "outputs": [
    {
     "name": "stdout",
     "output_type": "stream",
     "text": [
      "4:4:4 샘플링 팩터에 대한 결과가 /home/vision/models/AdvancedDigitalSignalProcessingCourse-FinalTermProject/data/kodim/results_4:4:4.xlsx에 저장되었습니다.\n",
      "4:2:2 샘플링 팩터에 대한 결과가 /home/vision/models/AdvancedDigitalSignalProcessingCourse-FinalTermProject/data/kodim/results_4:2:2.xlsx에 저장되었습니다.\n",
      "4:2:0 샘플링 팩터에 대한 결과가 /home/vision/models/AdvancedDigitalSignalProcessingCourse-FinalTermProject/data/kodim/results_4:2:0.xlsx에 저장되었습니다.\n"
     ]
    }
   ],
   "source": [
    "for sampling in sampling_factors:\n",
    "    results = results_dict[sampling]\n",
    "    \n",
    "    # 결과를 bpp 기준으로 정렬\n",
    "    results.sort()\n",
    "    \n",
    "    # DataFrame 생성\n",
    "    df = pd.DataFrame(results, columns=['quality', 'bpp', 'MS-SSIM', 'PSNR'])\n",
    "    \n",
    "    # 엑셀 파일로 저장\n",
    "    excel_path = f'/home/vision/models/AdvancedDigitalSignalProcessingCourse-FinalTermProject/data/kodim/results_{sampling}.xlsx'\n",
    "    df.to_excel(excel_path, index=False)\n",
    "    \n",
    "    print(f'{sampling} 샘플링 팩터에 대한 결과가 {excel_path}에 저장되었습니다.')"
   ]
  }
 ],
 "metadata": {
  "kernelspec": {
   "display_name": "torch222",
   "language": "python",
   "name": "python3"
  },
  "language_info": {
   "codemirror_mode": {
    "name": "ipython",
    "version": 3
   },
   "file_extension": ".py",
   "mimetype": "text/x-python",
   "name": "python",
   "nbconvert_exporter": "python",
   "pygments_lexer": "ipython3",
   "version": "3.10.14"
  }
 },
 "nbformat": 4,
 "nbformat_minor": 2
}
