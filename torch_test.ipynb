{
 "cells": [
  {
   "cell_type": "markdown",
   "metadata": {},
   "source": [
    "Torch 환경 구성 테스트"
   ]
  },
  {
   "cell_type": "code",
   "execution_count": 7,
   "metadata": {},
   "outputs": [
    {
     "name": "stdout",
     "output_type": "stream",
     "text": [
      "MPS is available, running on MPS device\n"
     ]
    }
   ],
   "source": [
    "import torch\n",
    "import torch.nn as nn\n",
    "import math\n",
    "import numpy as np\n",
    "import tqdm\n",
    "dtype = torch.float\n",
    "\n",
    "if torch.cuda.is_available():\n",
    "    device = torch.device(\"cuda\")\n",
    "    print(\"CUDA is available, running on CUDA device\")\n",
    "elif torch.backends.mps.is_available():\n",
    "    device = torch.device(\"mps\")\n",
    "    print(\"MPS is available, running on MPS device\")\n",
    "else:\n",
    "    device = torch.device(\"cpu\")\n",
    "    print(\"MPS is not available, running on CPU\")"
   ]
  },
  {
   "cell_type": "code",
   "execution_count": 5,
   "metadata": {},
   "outputs": [
    {
     "name": "stderr",
     "output_type": "stream",
     "text": [
      "100%|██████████| 5000/5000 [00:03<00:00, 1665.33it/s]"
     ]
    },
    {
     "name": "stdout",
     "output_type": "stream",
     "text": [
      "Result: y = 0.00018203664512839168 + 0.8567550778388977 x + -3.140330227324739e-05 x^2 + -0.09333240985870361 x^3\n"
     ]
    },
    {
     "name": "stderr",
     "output_type": "stream",
     "text": [
      "\n"
     ]
    }
   ],
   "source": [
    "# Create random input and output data\n",
    "x = torch.linspace(-math.pi, math.pi, 2000, device=device, dtype=dtype)\n",
    "y = torch.sin(x)\n",
    "\n",
    "# Randomly initialize weights\n",
    "a = torch.randn((), device=device, dtype=dtype)\n",
    "b = torch.randn((), device=device, dtype=dtype)\n",
    "c = torch.randn((), device=device, dtype=dtype)\n",
    "d = torch.randn((), device=device, dtype=dtype)\n",
    "\n",
    "learning_rate = 1e-6\n",
    "epoch = 5000\n",
    "tqdm_epoch = tqdm.tqdm(range(epoch))\n",
    "for t in tqdm_epoch:\n",
    "    # Forward pass: compute predicted y\n",
    "    y_pred = a + b * x + c * x ** 2 + d * x ** 3\n",
    "\n",
    "    # Compute and print loss\n",
    "    loss = (y_pred - y).pow(2).sum()\n",
    "\n",
    "    # Backprop to compute gradients of a, b, c, d with respect to loss\n",
    "    grad_y_pred = 2.0 * (y_pred - y)\n",
    "    grad_a = grad_y_pred.sum()\n",
    "    grad_b = (grad_y_pred * x).sum()\n",
    "    grad_c = (grad_y_pred * x ** 2).sum()\n",
    "    grad_d = (grad_y_pred * x ** 3).sum()\n",
    "\n",
    "    # Update weights using gradient descent\n",
    "    a -= learning_rate * grad_a\n",
    "    b -= learning_rate * grad_b\n",
    "    c -= learning_rate * grad_c\n",
    "    d -= learning_rate * grad_d\n",
    "\n",
    "print(f'Result: y = {a.item()} + {b.item()} x + {c.item()} x^2 + {d.item()} x^3')"
   ]
  },
  {
   "cell_type": "code",
   "execution_count": 10,
   "metadata": {},
   "outputs": [
    {
     "name": "stderr",
     "output_type": "stream",
     "text": [
      "usage: ipykernel_launcher.py [-h] --model MODEL --input INPUT --output OUTPUT\n",
      "                             [--cuda] [--iterations ITERATIONS]\n",
      "ipykernel_launcher.py: error: the following arguments are required: --model/-m, --input/-i, --output/-o\n"
     ]
    },
    {
     "ename": "SystemExit",
     "evalue": "2",
     "output_type": "error",
     "traceback": [
      "An exception has occurred, use %tb to see the full traceback.\n",
      "\u001b[0;31mSystemExit\u001b[0m\u001b[0;31m:\u001b[0m 2\n"
     ]
    }
   ],
   "source": [
    "from model import ConvLSTMCell\n",
    "\n",
    "# class EncoderCell(nn.Module):\n",
    "#     def __init__(self):\n",
    "#         super(EncoderCell, self).__init__()\n",
    "\n",
    "#         self.conv = nn.Conv2d(\n",
    "#             3, 64, kernel_size=3, stride=2, padding=1, bias=False)\n",
    "#         self.rnn1 = ConvLSTMCell(\n",
    "#             64,\n",
    "#             256,\n",
    "#             kernel_size=3,\n",
    "#             stride=2,\n",
    "#             padding=1,\n",
    "#             hidden_kernel_size=1,\n",
    "#             bias=False)\n",
    "#         self.rnn2 = ConvLSTMCell(\n",
    "#             256,\n",
    "#             512,\n",
    "#             kernel_size=3,\n",
    "#             stride=2,\n",
    "#             padding=1,\n",
    "#             hidden_kernel_size=1,\n",
    "#             bias=False)\n",
    "#         self.rnn3 = ConvLSTMCell(\n",
    "#             512,\n",
    "#             512,\n",
    "#             kernel_size=3,\n",
    "#             stride=2,\n",
    "#             padding=1,\n",
    "#             hidden_kernel_size=1,\n",
    "#             bias=False)\n",
    "\n",
    "#     def forward(self, input, hidden1, hidden2, hidden3):\n",
    "#         x = self.conv(input)\n",
    "\n",
    "#         hidden1 = self.rnn1(x, hidden1)\n",
    "#         x = hidden1[0]\n",
    "\n",
    "#         hidden2 = self.rnn2(x, hidden2)\n",
    "#         x = hidden2[0]\n",
    "\n",
    "#         hidden3 = self.rnn3(x, hidden3)\n",
    "#         x = hidden3[0]\n",
    "\n",
    "#         return x, hidden1, hidden2, hidden3"
   ]
  },
  {
   "cell_type": "code",
   "execution_count": 3,
   "metadata": {},
   "outputs": [
    {
     "name": "stderr",
     "output_type": "stream",
     "text": [
      "usage: ipykernel_launcher.py [-h] --model MODEL --input INPUT --output OUTPUT\n",
      "                             [--cuda] [--iterations ITERATIONS]\n",
      "ipykernel_launcher.py: error: the following arguments are required: --model/-m, --input/-i, --output/-o\n"
     ]
    },
    {
     "ename": "SystemExit",
     "evalue": "2",
     "output_type": "error",
     "traceback": [
      "An exception has occurred, use %tb to see the full traceback.\n",
      "\u001b[0;31mSystemExit\u001b[0m\u001b[0;31m:\u001b[0m 2\n"
     ]
    },
    {
     "name": "stderr",
     "output_type": "stream",
     "text": [
      "/opt/anaconda3/envs/torch222/lib/python3.10/site-packages/IPython/core/interactiveshell.py:3585: UserWarning: To exit: use 'exit', 'quit', or Ctrl-D.\n",
      "  warn(\"To exit: use 'exit', 'quit', or Ctrl-D.\", stacklevel=1)\n"
     ]
    }
   ],
   "source": [
    "## load networks on GPU\n",
    "from model import network\n",
    "\n",
    "# if torch.cuda.is_available():\n",
    "#     device = torch.device('cuda')\n",
    "# elif torch.backends.mps.is_available():\n",
    "#     device = torch.device('mps')\n",
    "# else:\n",
    "#     device = torch.device('cpu')\n",
    "\n",
    "# encoder = network.EncoderCell().to(device)\n",
    "# binarizer = network.Binarizer().to(device)\n",
    "# decoder = network.DecoderCell().to(device)"
   ]
  }
 ],
 "metadata": {
  "kernelspec": {
   "display_name": "torch222",
   "language": "python",
   "name": "python3"
  },
  "language_info": {
   "codemirror_mode": {
    "name": "ipython",
    "version": 3
   },
   "file_extension": ".py",
   "mimetype": "text/x-python",
   "name": "python",
   "nbconvert_exporter": "python",
   "pygments_lexer": "ipython3",
   "version": "3.10.14"
  }
 },
 "nbformat": 4,
 "nbformat_minor": 2
}
