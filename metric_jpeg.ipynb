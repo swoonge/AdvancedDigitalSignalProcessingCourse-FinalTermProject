{
 "cells": [
  {
   "cell_type": "code",
   "execution_count": 1,
   "metadata": {},
   "outputs": [],
   "source": [
    "import os\n",
    "import torch\n",
    "import numpy as np\n",
    "from PIL import Image\n",
    "import matplotlib.pyplot as plt\n",
    "import pandas as pd\n",
    "\n",
    "from util.metric import MultiScaleSSIM, psnr\n",
    "from pytorch_msssim import ssim, ms_ssim"
   ]
  },
  {
   "cell_type": "code",
   "execution_count": 2,
   "metadata": {},
   "outputs": [],
   "source": [
    "# JPEG 파일들이 있는 폴더 경로\n",
    "jpeg_folder = './data/kodim/jpeg'\n",
    "\n",
    "# 원본 PNG 파일이 있는 폴더 경로 (참조용)\n",
    "png_folder = './data/kodim/png'"
   ]
  },
  {
   "cell_type": "code",
   "execution_count": 3,
   "metadata": {},
   "outputs": [],
   "source": [
    "sampling_factors = ['4:4:4', '4:2:2', '4:2:0']\n",
    "quality_values = range(10, 101, 10)\n",
    "\n",
    "png_images_path = os.listdir(png_folder)\n",
    "png_images_path.sort()\n"
   ]
  },
  {
   "cell_type": "code",
   "execution_count": 4,
   "metadata": {},
   "outputs": [],
   "source": [
    "png_images = []\n",
    "jpeg_images_dict = {sampling: {} for sampling in sampling_factors}\n",
    "results_dict = {sampling: [] for sampling in sampling_factors}\n",
    "\n",
    "# PNG 폴더의 모든 파일에 대해 metric 계산\n",
    "for file_name in png_images_path:\n",
    "    if file_name.lower().endswith('.png'):\n",
    "        png_path = os.path.join(png_folder, file_name)\n",
    "        with Image.open(png_path) as img:\n",
    "            png_images.append(np.array(img).transpose(2, 0, 1))\n",
    "\n",
    "for sampling in sampling_factors:\n",
    "    jpeg_images_quality_dict = {quality: [] for quality in quality_values}\n",
    "    jpeg_images = []\n",
    "    for quality in quality_values:\n",
    "        for i in range(len(png_images)):\n",
    "            file_name = f\"kodim{i+1:02}_{sampling}_{quality}.jpeg\"\n",
    "            # JPEG 파일 이름과 경로 설정\n",
    "            jpeg_path = os.path.join(jpeg_folder, file_name)\n",
    "            jpeg_size = os.path.getsize(jpeg_path) * 8\n",
    "            \n",
    "            with Image.open(jpeg_path) as img:\n",
    "                jpeg_img = np.array(img).transpose(2, 0, 1)\n",
    "                bpp = jpeg_size / (jpeg_img.shape[1] * jpeg_img.shape[2])\n",
    "                jpeg_images_quality_dict[quality].append([jpeg_img, bpp])\n",
    "                \n",
    "        jpeg_images_dict[sampling] = jpeg_images_quality_dict\n",
    "                        "
   ]
  },
  {
   "cell_type": "code",
   "execution_count": 5,
   "metadata": {},
   "outputs": [
    {
     "name": "stdout",
     "output_type": "stream",
     "text": [
      "[processing] sampling: 4:4:4\n",
      "\t[processing] quality: 10\t | MS-SSIM1: 0.9608 | MS-SSIM2: 0.9042 | SSIM: 0.7252 | PSNR: 30.7997\n",
      "\t[processing] quality: 20\t | MS-SSIM1: 0.9788 | MS-SSIM2: 0.9574 | SSIM: 0.8187 | PSNR: 32.2860\n",
      "\t[processing] quality: 30\t | MS-SSIM1: 0.9842 | MS-SSIM2: 0.9718 | SSIM: 0.8595 | PSNR: 33.0513\n",
      "\t[processing] quality: 40\t | MS-SSIM1: 0.9874 | MS-SSIM2: 0.9797 | SSIM: 0.8830 | PSNR: 33.6280\n",
      "\t[processing] quality: 50\t | MS-SSIM1: 0.9894 | MS-SSIM2: 0.9839 | SSIM: 0.8994 | PSNR: 34.1275\n",
      "\t[processing] quality: 60\t | MS-SSIM1: 0.9909 | MS-SSIM2: 0.9871 | SSIM: 0.9137 | PSNR: 34.5953\n",
      "\t[processing] quality: 70\t | MS-SSIM1: 0.9928 | MS-SSIM2: 0.9905 | SSIM: 0.9300 | PSNR: 35.3028\n",
      "\t[processing] quality: 80\t | MS-SSIM1: 0.9948 | MS-SSIM2: 0.9938 | SSIM: 0.9488 | PSNR: 36.4840\n",
      "\t[processing] quality: 90\t | MS-SSIM1: 0.9972 | MS-SSIM2: 0.9969 | SSIM: 0.9718 | PSNR: 39.2067\n",
      "\t[processing] quality: 100\t | MS-SSIM1: 0.9997 | MS-SSIM2: 0.9996 | SSIM: 0.9974 | PSNR: 50.4960\n",
      "[processing] sampling: 4:2:2\n",
      "\t[processing] quality: 10\t | MS-SSIM1: 0.9587 | MS-SSIM2: 0.9025 | SSIM: 0.7260 | PSNR: 30.7283\n",
      "\t[processing] quality: 20\t | MS-SSIM1: 0.9771 | MS-SSIM2: 0.9543 | SSIM: 0.8172 | PSNR: 32.1534\n",
      "\t[processing] quality: 30\t | MS-SSIM1: 0.9828 | MS-SSIM2: 0.9686 | SSIM: 0.8570 | PSNR: 32.8919\n",
      "\t[processing] quality: 40\t | MS-SSIM1: 0.9861 | MS-SSIM2: 0.9765 | SSIM: 0.8799 | PSNR: 33.4418\n",
      "\t[processing] quality: 50\t | MS-SSIM1: 0.9883 | MS-SSIM2: 0.9812 | SSIM: 0.8965 | PSNR: 33.9304\n",
      "\t[processing] quality: 60\t | MS-SSIM1: 0.9899 | MS-SSIM2: 0.9845 | SSIM: 0.9104 | PSNR: 34.3724\n",
      "\t[processing] quality: 70\t | MS-SSIM1: 0.9919 | MS-SSIM2: 0.9882 | SSIM: 0.9268 | PSNR: 35.0455\n",
      "\t[processing] quality: 80\t | MS-SSIM1: 0.9940 | MS-SSIM2: 0.9918 | SSIM: 0.9454 | PSNR: 36.1485\n",
      "\t[processing] quality: 90\t | MS-SSIM1: 0.9966 | MS-SSIM2: 0.9956 | SSIM: 0.9684 | PSNR: 38.6711\n",
      "\t[processing] quality: 100\t | MS-SSIM1: 0.9994 | MS-SSIM2: 0.9994 | SSIM: 0.9956 | PSNR: 47.6858\n",
      "[processing] sampling: 4:2:0\n",
      "\t[processing] quality: 10\t | MS-SSIM1: 0.9569 | MS-SSIM2: 0.8995 | SSIM: 0.7258 | PSNR: 30.6630\n",
      "\t[processing] quality: 20\t | MS-SSIM1: 0.9755 | MS-SSIM2: 0.9517 | SSIM: 0.8164 | PSNR: 32.0300\n",
      "\t[processing] quality: 30\t | MS-SSIM1: 0.9814 | MS-SSIM2: 0.9658 | SSIM: 0.8556 | PSNR: 32.7337\n",
      "\t[processing] quality: 40\t | MS-SSIM1: 0.9848 | MS-SSIM2: 0.9737 | SSIM: 0.8781 | PSNR: 33.2556\n",
      "\t[processing] quality: 50\t | MS-SSIM1: 0.9872 | MS-SSIM2: 0.9788 | SSIM: 0.8948 | PSNR: 33.7278\n",
      "\t[processing] quality: 60\t | MS-SSIM1: 0.9888 | MS-SSIM2: 0.9822 | SSIM: 0.9085 | PSNR: 34.1480\n",
      "\t[processing] quality: 70\t | MS-SSIM1: 0.9909 | MS-SSIM2: 0.9860 | SSIM: 0.9245 | PSNR: 34.7887\n",
      "\t[processing] quality: 80\t | MS-SSIM1: 0.9932 | MS-SSIM2: 0.9899 | SSIM: 0.9427 | PSNR: 35.8224\n",
      "\t[processing] quality: 90\t | MS-SSIM1: 0.9959 | MS-SSIM2: 0.9942 | SSIM: 0.9659 | PSNR: 38.1380\n",
      "\t[processing] quality: 100\t | MS-SSIM1: 0.9993 | MS-SSIM2: 0.9992 | SSIM: 0.9945 | PSNR: 46.4227\n"
     ]
    }
   ],
   "source": [
    "# MS-SSIM 계산\n",
    "for sampling in sampling_factors:\n",
    "    print('[processing] sampling:', sampling)\n",
    "    for quality in quality_values:\n",
    "        print('\\t[processing] quality:', quality, end='\\t | ')\n",
    "        jpeg_images = jpeg_images_dict[sampling][quality]\n",
    "        ms_ssim_losses1 = []\n",
    "        ssim_losses = []\n",
    "        psnr_losses = []\n",
    "        for i in range(len(png_images)):\n",
    "            image1 = np.expand_dims(png_images[i], axis=0)\n",
    "            image2 = np.expand_dims(jpeg_images[i][0], axis=0)\n",
    "            ms_ssim_losses1.append(MultiScaleSSIM(image1, image2, max_val=255))\n",
    "            psnr_losses.append(psnr(image1, image2))\n",
    "            bpp = jpeg_images[i][1]\n",
    "        ms_ssim_loss_1 = sum(ms_ssim_losses1) / len(ms_ssim_losses1)\n",
    "        psnr_loss = sum(psnr_losses) / len(psnr_losses)\n",
    "        ssim_loss = ssim(torch.tensor(image1).float(), torch.tensor(image2).float(), data_range=255, size_average=True).item()\n",
    "        ms_ssim_loss_2 = ms_ssim(torch.tensor(image1).float(), torch.tensor(image2).float(), data_range=255, size_average=True).item()\n",
    "        results_dict[sampling].append((quality, bpp, ssim_loss, ms_ssim_loss_1, ms_ssim_loss_2, psnr_loss))\n",
    "        print(f'MS-SSIM1: {ms_ssim_loss_1:.4f} | MS-SSIM2: {ms_ssim_loss_2:.4f} | SSIM: {ssim_loss:.4f} | PSNR: {psnr_loss:.4f}')\n"
   ]
  },
  {
   "cell_type": "code",
   "execution_count": 6,
   "metadata": {},
   "outputs": [
    {
     "name": "stdout",
     "output_type": "stream",
     "text": [
      "4:4:4 샘플링 팩터에 대한 결과가 /home/vision/models/AdvancedDigitalSignalProcessingCourse-FinalTermProject/data/kodim/results_4:4:4.xlsx에 저장되었습니다.\n",
      "4:2:2 샘플링 팩터에 대한 결과가 /home/vision/models/AdvancedDigitalSignalProcessingCourse-FinalTermProject/data/kodim/results_4:2:2.xlsx에 저장되었습니다.\n",
      "4:2:0 샘플링 팩터에 대한 결과가 /home/vision/models/AdvancedDigitalSignalProcessingCourse-FinalTermProject/data/kodim/results_4:2:0.xlsx에 저장되었습니다.\n"
     ]
    }
   ],
   "source": [
    "for sampling in sampling_factors:\n",
    "    results = results_dict[sampling]\n",
    "    \n",
    "    # 결과를 bpp 기준으로 정렬\n",
    "    results.sort()\n",
    "    \n",
    "    # DataFrame 생성\n",
    "    df = pd.DataFrame(results, columns=['quality', 'bpp', 'SSIM', 'MS-SSIM1', 'MS-SSIM2', 'PSNR'])\n",
    "    \n",
    "    # 엑셀 파일로 저장\n",
    "    excel_path = f'/home/vision/models/AdvancedDigitalSignalProcessingCourse-FinalTermProject/data/kodim/results_{sampling}.xlsx'\n",
    "    df.to_excel(excel_path, index=False)\n",
    "    \n",
    "    print(f'{sampling} 샘플링 팩터에 대한 결과가 {excel_path}에 저장되었습니다.')"
   ]
  }
 ],
 "metadata": {
  "kernelspec": {
   "display_name": "torch222",
   "language": "python",
   "name": "python3"
  },
  "language_info": {
   "codemirror_mode": {
    "name": "ipython",
    "version": 3
   },
   "file_extension": ".py",
   "mimetype": "text/x-python",
   "name": "python",
   "nbconvert_exporter": "python",
   "pygments_lexer": "ipython3",
   "version": "3.10.14"
  }
 },
 "nbformat": 4,
 "nbformat_minor": 2
}
